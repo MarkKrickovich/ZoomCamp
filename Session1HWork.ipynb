{
 "cells": [
  {
   "cell_type": "code",
   "execution_count": 263,
   "id": "bfcf01f7-a337-4758-ae9c-38930fa1720e",
   "metadata": {},
   "outputs": [],
   "source": [
    "import os\n",
    "os.getcwd()\n",
    "import pandas as pd\n",
    "import numpy as np\n",
    "import matplotlib as mtp\n",
    "import seaborn as sns"
   ]
  },
  {
   "cell_type": "code",
   "execution_count": 175,
   "id": "0f65b4b2-d35c-4eb8-a900-82456d084b1d",
   "metadata": {},
   "outputs": [
    {
     "name": "stdout",
     "output_type": "stream",
     "text": [
      "Current working directory before\n",
      "C:\\Users\\markk\\OneDrive\\Documents\\Documents\\Data Science\\DSProjects\\ml-zoomcamp\\session1\n",
      "\n",
      "Current working directory before\n",
      "C:\\Users\\markk\\OneDrive\\Documents\\Documents\\Data Science\\DSProjects\\ml-zoomcamp\\session1\n",
      "\n"
     ]
    }
   ],
   "source": [
    "# Python program to change the current working directory\n",
    "# Function to Get the current\n",
    "# working directory\n",
    "def current_path():\n",
    "    print(\"Current working directory before\")\n",
    "    print(os.getcwd())\n",
    "    print()\n",
    "# Driver's code\n",
    "# Printing CWD before\n",
    "current_path()\n",
    "# Changing the CWD\n",
    "os.chdir('C:/Users/markk/OneDrive/Documents/Documents/Data Science/DSProjects/ml-zoomcamp/session1')\n",
    "# Printing CWD after\n",
    "current_path()"
   ]
  },
  {
   "cell_type": "markdown",
   "id": "c88c2d29-2946-4ef6-a2a0-48bf5b662bae",
   "metadata": {},
   "source": [
    "## Questions 1 & 2"
   ]
  },
  {
   "cell_type": "markdown",
   "id": "e0acdf7d-be95-42ea-bcb8-0b349ea3aabb",
   "metadata": {},
   "source": [
    "## Numpy and Pandas Versions"
   ]
  },
  {
   "cell_type": "code",
   "execution_count": 176,
   "id": "f1998d41-dd74-4974-a8bc-ab1a31130ef5",
   "metadata": {},
   "outputs": [
    {
     "name": "stdout",
     "output_type": "stream",
     "text": [
      "numpy:  1.17.0 pandas:  1.1.5\n"
     ]
    }
   ],
   "source": [
    "print('numpy: ',np.__version__, 'pandas: ',pd.__version__)"
   ]
  },
  {
   "cell_type": "markdown",
   "id": "684f1201-e51c-4d76-9b01-774142fe1b4c",
   "metadata": {},
   "source": [
    "## Read in CSV File as Pandas DataFrame, check shape"
   ]
  },
  {
   "cell_type": "code",
   "execution_count": 177,
   "id": "5fb184dd-ecae-43e8-a500-7644f15a40a1",
   "metadata": {},
   "outputs": [
    {
     "data": {
      "text/plain": [
       "(11914, 16)"
      ]
     },
     "execution_count": 177,
     "metadata": {},
     "output_type": "execute_result"
    }
   ],
   "source": [
    "carsdata = pd.read_csv('data.csv')\n",
    "# dfcars = pd.DataFrame('data')\n",
    "carsdata.shape"
   ]
  },
  {
   "cell_type": "code",
   "execution_count": 178,
   "id": "123ad299-2bae-40d4-9c38-c7b66d9376b8",
   "metadata": {},
   "outputs": [
    {
     "data": {
      "text/html": [
       "<div>\n",
       "<style scoped>\n",
       "    .dataframe tbody tr th:only-of-type {\n",
       "        vertical-align: middle;\n",
       "    }\n",
       "\n",
       "    .dataframe tbody tr th {\n",
       "        vertical-align: top;\n",
       "    }\n",
       "\n",
       "    .dataframe thead th {\n",
       "        text-align: right;\n",
       "    }\n",
       "</style>\n",
       "<table border=\"1\" class=\"dataframe\">\n",
       "  <thead>\n",
       "    <tr style=\"text-align: right;\">\n",
       "      <th></th>\n",
       "      <th>Make</th>\n",
       "      <th>Model</th>\n",
       "      <th>Year</th>\n",
       "      <th>Engine Fuel Type</th>\n",
       "      <th>Engine HP</th>\n",
       "      <th>Engine Cylinders</th>\n",
       "      <th>Transmission Type</th>\n",
       "      <th>Driven_Wheels</th>\n",
       "      <th>Number of Doors</th>\n",
       "      <th>Market Category</th>\n",
       "      <th>Vehicle Size</th>\n",
       "      <th>Vehicle Style</th>\n",
       "      <th>highway MPG</th>\n",
       "      <th>city mpg</th>\n",
       "      <th>Popularity</th>\n",
       "      <th>MSRP</th>\n",
       "    </tr>\n",
       "  </thead>\n",
       "  <tbody>\n",
       "    <tr>\n",
       "      <th>0</th>\n",
       "      <td>BMW</td>\n",
       "      <td>1 Series M</td>\n",
       "      <td>2011</td>\n",
       "      <td>premium unleaded (required)</td>\n",
       "      <td>335.0</td>\n",
       "      <td>6.0</td>\n",
       "      <td>MANUAL</td>\n",
       "      <td>rear wheel drive</td>\n",
       "      <td>2.0</td>\n",
       "      <td>Factory Tuner,Luxury,High-Performance</td>\n",
       "      <td>Compact</td>\n",
       "      <td>Coupe</td>\n",
       "      <td>26</td>\n",
       "      <td>19</td>\n",
       "      <td>3916</td>\n",
       "      <td>46135</td>\n",
       "    </tr>\n",
       "    <tr>\n",
       "      <th>1</th>\n",
       "      <td>BMW</td>\n",
       "      <td>1 Series</td>\n",
       "      <td>2011</td>\n",
       "      <td>premium unleaded (required)</td>\n",
       "      <td>300.0</td>\n",
       "      <td>6.0</td>\n",
       "      <td>MANUAL</td>\n",
       "      <td>rear wheel drive</td>\n",
       "      <td>2.0</td>\n",
       "      <td>Luxury,Performance</td>\n",
       "      <td>Compact</td>\n",
       "      <td>Convertible</td>\n",
       "      <td>28</td>\n",
       "      <td>19</td>\n",
       "      <td>3916</td>\n",
       "      <td>40650</td>\n",
       "    </tr>\n",
       "  </tbody>\n",
       "</table>\n",
       "</div>"
      ],
      "text/plain": [
       "  Make       Model  Year             Engine Fuel Type  Engine HP  \\\n",
       "0  BMW  1 Series M  2011  premium unleaded (required)      335.0   \n",
       "1  BMW    1 Series  2011  premium unleaded (required)      300.0   \n",
       "\n",
       "   Engine Cylinders Transmission Type     Driven_Wheels  Number of Doors  \\\n",
       "0               6.0            MANUAL  rear wheel drive              2.0   \n",
       "1               6.0            MANUAL  rear wheel drive              2.0   \n",
       "\n",
       "                         Market Category Vehicle Size Vehicle Style  \\\n",
       "0  Factory Tuner,Luxury,High-Performance      Compact         Coupe   \n",
       "1                     Luxury,Performance      Compact   Convertible   \n",
       "\n",
       "   highway MPG  city mpg  Popularity   MSRP  \n",
       "0           26        19        3916  46135  \n",
       "1           28        19        3916  40650  "
      ]
     },
     "execution_count": 178,
     "metadata": {},
     "output_type": "execute_result"
    }
   ],
   "source": [
    "carsdata.head(2)"
   ]
  },
  {
   "cell_type": "code",
   "execution_count": 179,
   "id": "fb1f53c7-24b0-42d1-8c19-3fd1c03ce9b1",
   "metadata": {},
   "outputs": [
    {
     "data": {
      "text/html": [
       "<div>\n",
       "<style scoped>\n",
       "    .dataframe tbody tr th:only-of-type {\n",
       "        vertical-align: middle;\n",
       "    }\n",
       "\n",
       "    .dataframe tbody tr th {\n",
       "        vertical-align: top;\n",
       "    }\n",
       "\n",
       "    .dataframe thead th {\n",
       "        text-align: right;\n",
       "    }\n",
       "</style>\n",
       "<table border=\"1\" class=\"dataframe\">\n",
       "  <thead>\n",
       "    <tr style=\"text-align: right;\">\n",
       "      <th></th>\n",
       "      <th>make</th>\n",
       "      <th>model</th>\n",
       "      <th>year</th>\n",
       "      <th>engine_fuel_type</th>\n",
       "      <th>engine_hp</th>\n",
       "      <th>engine_cylinders</th>\n",
       "      <th>transmission_type</th>\n",
       "      <th>driven_wheels</th>\n",
       "      <th>number_of_doors</th>\n",
       "      <th>market_category</th>\n",
       "      <th>vehicle_size</th>\n",
       "      <th>vehicle_style</th>\n",
       "      <th>highway_mpg</th>\n",
       "      <th>city_mpg</th>\n",
       "      <th>popularity</th>\n",
       "      <th>msrp</th>\n",
       "    </tr>\n",
       "  </thead>\n",
       "  <tbody>\n",
       "    <tr>\n",
       "      <th>0</th>\n",
       "      <td>BMW</td>\n",
       "      <td>1 Series M</td>\n",
       "      <td>2011</td>\n",
       "      <td>premium unleaded (required)</td>\n",
       "      <td>335.0</td>\n",
       "      <td>6.0</td>\n",
       "      <td>MANUAL</td>\n",
       "      <td>rear wheel drive</td>\n",
       "      <td>2.0</td>\n",
       "      <td>Factory Tuner,Luxury,High-Performance</td>\n",
       "      <td>Compact</td>\n",
       "      <td>Coupe</td>\n",
       "      <td>26</td>\n",
       "      <td>19</td>\n",
       "      <td>3916</td>\n",
       "      <td>46135</td>\n",
       "    </tr>\n",
       "    <tr>\n",
       "      <th>1</th>\n",
       "      <td>BMW</td>\n",
       "      <td>1 Series</td>\n",
       "      <td>2011</td>\n",
       "      <td>premium unleaded (required)</td>\n",
       "      <td>300.0</td>\n",
       "      <td>6.0</td>\n",
       "      <td>MANUAL</td>\n",
       "      <td>rear wheel drive</td>\n",
       "      <td>2.0</td>\n",
       "      <td>Luxury,Performance</td>\n",
       "      <td>Compact</td>\n",
       "      <td>Convertible</td>\n",
       "      <td>28</td>\n",
       "      <td>19</td>\n",
       "      <td>3916</td>\n",
       "      <td>40650</td>\n",
       "    </tr>\n",
       "  </tbody>\n",
       "</table>\n",
       "</div>"
      ],
      "text/plain": [
       "  make       model  year             engine_fuel_type  engine_hp  \\\n",
       "0  BMW  1 Series M  2011  premium unleaded (required)      335.0   \n",
       "1  BMW    1 Series  2011  premium unleaded (required)      300.0   \n",
       "\n",
       "   engine_cylinders transmission_type     driven_wheels  number_of_doors  \\\n",
       "0               6.0            MANUAL  rear wheel drive              2.0   \n",
       "1               6.0            MANUAL  rear wheel drive              2.0   \n",
       "\n",
       "                         market_category vehicle_size vehicle_style  \\\n",
       "0  Factory Tuner,Luxury,High-Performance      Compact         Coupe   \n",
       "1                     Luxury,Performance      Compact   Convertible   \n",
       "\n",
       "   highway_mpg  city_mpg  popularity   msrp  \n",
       "0           26        19        3916  46135  \n",
       "1           28        19        3916  40650  "
      ]
     },
     "execution_count": 179,
     "metadata": {},
     "output_type": "execute_result"
    }
   ],
   "source": [
    "carsdata.columns = carsdata.columns.str.lower().str.replace(' ', '_')\n",
    "carsdata.head(2)"
   ]
  },
  {
   "cell_type": "code",
   "execution_count": null,
   "id": "54a23df6-a1cc-4808-ba2c-58776360feec",
   "metadata": {},
   "outputs": [],
   "source": []
  },
  {
   "cell_type": "markdown",
   "id": "d4941020-88ea-41f3-b279-16e658c2afe7",
   "metadata": {},
   "source": [
    "## Question 3: What is the Average MSPR of BMW cars?"
   ]
  },
  {
   "cell_type": "code",
   "execution_count": 180,
   "id": "dbc0a251-e5f1-44d0-9534-53eee641b74f",
   "metadata": {},
   "outputs": [
    {
     "data": {
      "text/html": [
       "<div>\n",
       "<style scoped>\n",
       "    .dataframe tbody tr th:only-of-type {\n",
       "        vertical-align: middle;\n",
       "    }\n",
       "\n",
       "    .dataframe tbody tr th {\n",
       "        vertical-align: top;\n",
       "    }\n",
       "\n",
       "    .dataframe thead th {\n",
       "        text-align: right;\n",
       "    }\n",
       "</style>\n",
       "<table border=\"1\" class=\"dataframe\">\n",
       "  <thead>\n",
       "    <tr style=\"text-align: right;\">\n",
       "      <th></th>\n",
       "      <th>make</th>\n",
       "      <th>model</th>\n",
       "      <th>year</th>\n",
       "      <th>engine_fuel_type</th>\n",
       "      <th>engine_hp</th>\n",
       "      <th>engine_cylinders</th>\n",
       "      <th>transmission_type</th>\n",
       "      <th>driven_wheels</th>\n",
       "      <th>number_of_doors</th>\n",
       "      <th>market_category</th>\n",
       "      <th>vehicle_size</th>\n",
       "      <th>vehicle_style</th>\n",
       "      <th>highway_mpg</th>\n",
       "      <th>city_mpg</th>\n",
       "      <th>popularity</th>\n",
       "      <th>msrp</th>\n",
       "    </tr>\n",
       "  </thead>\n",
       "  <tbody>\n",
       "    <tr>\n",
       "      <th>0</th>\n",
       "      <td>BMW</td>\n",
       "      <td>1 Series M</td>\n",
       "      <td>2011</td>\n",
       "      <td>premium unleaded (required)</td>\n",
       "      <td>335.0</td>\n",
       "      <td>6.0</td>\n",
       "      <td>MANUAL</td>\n",
       "      <td>rear wheel drive</td>\n",
       "      <td>2.0</td>\n",
       "      <td>Factory Tuner,Luxury,High-Performance</td>\n",
       "      <td>Compact</td>\n",
       "      <td>Coupe</td>\n",
       "      <td>26</td>\n",
       "      <td>19</td>\n",
       "      <td>3916</td>\n",
       "      <td>46135</td>\n",
       "    </tr>\n",
       "    <tr>\n",
       "      <th>1</th>\n",
       "      <td>BMW</td>\n",
       "      <td>1 Series</td>\n",
       "      <td>2011</td>\n",
       "      <td>premium unleaded (required)</td>\n",
       "      <td>300.0</td>\n",
       "      <td>6.0</td>\n",
       "      <td>MANUAL</td>\n",
       "      <td>rear wheel drive</td>\n",
       "      <td>2.0</td>\n",
       "      <td>Luxury,Performance</td>\n",
       "      <td>Compact</td>\n",
       "      <td>Convertible</td>\n",
       "      <td>28</td>\n",
       "      <td>19</td>\n",
       "      <td>3916</td>\n",
       "      <td>40650</td>\n",
       "    </tr>\n",
       "  </tbody>\n",
       "</table>\n",
       "</div>"
      ],
      "text/plain": [
       "  make       model  year             engine_fuel_type  engine_hp  \\\n",
       "0  BMW  1 Series M  2011  premium unleaded (required)      335.0   \n",
       "1  BMW    1 Series  2011  premium unleaded (required)      300.0   \n",
       "\n",
       "   engine_cylinders transmission_type     driven_wheels  number_of_doors  \\\n",
       "0               6.0            MANUAL  rear wheel drive              2.0   \n",
       "1               6.0            MANUAL  rear wheel drive              2.0   \n",
       "\n",
       "                         market_category vehicle_size vehicle_style  \\\n",
       "0  Factory Tuner,Luxury,High-Performance      Compact         Coupe   \n",
       "1                     Luxury,Performance      Compact   Convertible   \n",
       "\n",
       "   highway_mpg  city_mpg  popularity   msrp  \n",
       "0           26        19        3916  46135  \n",
       "1           28        19        3916  40650  "
      ]
     },
     "execution_count": 180,
     "metadata": {},
     "output_type": "execute_result"
    }
   ],
   "source": [
    "BMW = carsdata[carsdata['make'] == 'BMW']\n",
    "# carsdata.groupby('MSRP').MSRP.mean()\n",
    "BMW.head(2)"
   ]
  },
  {
   "cell_type": "code",
   "execution_count": 181,
   "id": "32e1982b-da84-4d4e-937e-d565e50f5a5a",
   "metadata": {},
   "outputs": [
    {
     "name": "stdout",
     "output_type": "stream",
     "text": [
      "BMW Avg MSRP: 61546.76\n"
     ]
    }
   ],
   "source": [
    "print('BMW Avg MSRP:',BMW['msrp'].mean().round(2))"
   ]
  },
  {
   "cell_type": "markdown",
   "id": "4f59cf09-6e27-4b99-b0fe-372351bf654a",
   "metadata": {},
   "source": [
    "## Question 4: 2015 Subset\n",
    "Select a subset of cars after year 2015 (inclusive, i.e. 2015 and after). How many of them have missing values for Engine HP?"
   ]
  },
  {
   "cell_type": "code",
   "execution_count": 182,
   "id": "cdc9c2ba-f049-435f-8373-4ac818a3767d",
   "metadata": {},
   "outputs": [
    {
     "data": {
      "text/plain": [
       "make                    0\n",
       "model                   0\n",
       "year                    0\n",
       "engine_fuel_type        0\n",
       "engine_hp              51\n",
       "engine_cylinders        8\n",
       "transmission_type       0\n",
       "driven_wheels           0\n",
       "number_of_doors         5\n",
       "market_category      1324\n",
       "vehicle_size            0\n",
       "vehicle_style           0\n",
       "highway_mpg             0\n",
       "city_mpg                0\n",
       "popularity              0\n",
       "msrp                    0\n",
       "dtype: int64"
      ]
     },
     "execution_count": 182,
     "metadata": {},
     "output_type": "execute_result"
    }
   ],
   "source": [
    "cars2015=carsdata[carsdata['year'] > 2014]\n",
    "cars2015.head(2)\n",
    "cars2015.isnull().sum()"
   ]
  },
  {
   "cell_type": "markdown",
   "id": "826c2f31-4bf4-460d-b431-b32538cc83e3",
   "metadata": {},
   "source": [
    "## Question 5\n",
    "    Calculate the average \"Engine HP\" in the dataset.\n",
    "    Use the fillna method and to fill the missing values in \"Engine HP\" with the mean value from the previous step.\n",
    "    Now, calcualte the average of \"Engine HP\" again.\n",
    "    Has it changed?\n",
    "Round both means before answering this questions. You can use the round function for that:"
   ]
  },
  {
   "cell_type": "code",
   "execution_count": 184,
   "id": "e91ffb5a-f3d7-4383-ad0b-e56bbf5c0c6f",
   "metadata": {},
   "outputs": [
    {
     "name": "stdout",
     "output_type": "stream",
     "text": [
      "Avg HP Before:  249.39\n",
      "make                    0\n",
      "model                   0\n",
      "year                    0\n",
      "engine_fuel_type        3\n",
      "engine_hp               0\n",
      "engine_cylinders       30\n",
      "transmission_type       0\n",
      "driven_wheels           0\n",
      "number_of_doors         6\n",
      "market_category      3742\n",
      "vehicle_size            0\n",
      "vehicle_style           0\n",
      "highway_mpg             0\n",
      "city_mpg                0\n",
      "popularity              0\n",
      "msrp                    0\n",
      "dtype: int64\n",
      "Avg HP After:  249.39\n"
     ]
    }
   ],
   "source": [
    "BAvgHP = carsdata['engine_hp'].mean().round(2)\n",
    "print(\"Avg HP Before: \",BAvgHP)\n",
    "carsdata.engine_hp = carsdata.engine_hp.fillna(carsdata.engine_hp.mean())\n",
    "print(carsdata.isnull().sum())\n",
    "AAvgHP = carsdata['engine_hp'].mean().round(2)\n",
    "print(\"Avg HP After: \",AAvgHP)"
   ]
  },
  {
   "cell_type": "markdown",
   "id": "19f13b8e-9e97-4330-85a2-2963655dc5ce",
   "metadata": {},
   "source": [
    "### Need to create Before and After Separately, before and after the fillna"
   ]
  },
  {
   "cell_type": "markdown",
   "id": "1f411cdf-8a42-4d8d-88aa-d0cbd1aa9170",
   "metadata": {},
   "source": [
    " ## Question 6\n",
    "\n",
    "    Select all the \"Rolls-Royce\" cars from the dataset.\n",
    "    Select only columns \"Engine HP\", \"Engine Cylinders\", \"highway MPG\".\n",
    "    Now drop all duplicated rows using drop_duplicates method (you should get a dataframe with 7 rows).\n",
    "    Get the underlying NumPy array. Let's call it X.\n",
    "    Compute matrix-matrix multiplication between the transpose of X and X. To get the transpose, use X.T. Let's call the result XTX.\n",
    "    Invert XTX.\n",
    "    What's the sum of all the elements of the result?\n",
    "\n",
    "Hint: if the result is negative, re-read the task one more time"
   ]
  },
  {
   "cell_type": "code",
   "execution_count": 196,
   "id": "9eeb01ce-47c7-4585-b2b8-33f0e481384d",
   "metadata": {},
   "outputs": [
    {
     "data": {
      "text/html": [
       "<div>\n",
       "<style scoped>\n",
       "    .dataframe tbody tr th:only-of-type {\n",
       "        vertical-align: middle;\n",
       "    }\n",
       "\n",
       "    .dataframe tbody tr th {\n",
       "        vertical-align: top;\n",
       "    }\n",
       "\n",
       "    .dataframe thead th {\n",
       "        text-align: right;\n",
       "    }\n",
       "</style>\n",
       "<table border=\"1\" class=\"dataframe\">\n",
       "  <thead>\n",
       "    <tr style=\"text-align: right;\">\n",
       "      <th></th>\n",
       "      <th>make</th>\n",
       "      <th>model</th>\n",
       "      <th>year</th>\n",
       "      <th>engine_fuel_type</th>\n",
       "      <th>engine_hp</th>\n",
       "      <th>engine_cylinders</th>\n",
       "      <th>transmission_type</th>\n",
       "      <th>driven_wheels</th>\n",
       "      <th>number_of_doors</th>\n",
       "      <th>market_category</th>\n",
       "      <th>vehicle_size</th>\n",
       "      <th>vehicle_style</th>\n",
       "      <th>highway_mpg</th>\n",
       "      <th>city_mpg</th>\n",
       "      <th>popularity</th>\n",
       "      <th>msrp</th>\n",
       "    </tr>\n",
       "  </thead>\n",
       "  <tbody>\n",
       "    <tr>\n",
       "      <th>2921</th>\n",
       "      <td>Rolls-Royce</td>\n",
       "      <td>Corniche</td>\n",
       "      <td>2001</td>\n",
       "      <td>premium unleaded (required)</td>\n",
       "      <td>325.0</td>\n",
       "      <td>8.0</td>\n",
       "      <td>AUTOMATIC</td>\n",
       "      <td>rear wheel drive</td>\n",
       "      <td>2.0</td>\n",
       "      <td>Exotic,Luxury</td>\n",
       "      <td>Large</td>\n",
       "      <td>Convertible</td>\n",
       "      <td>15</td>\n",
       "      <td>10</td>\n",
       "      <td>86</td>\n",
       "      <td>359990</td>\n",
       "    </tr>\n",
       "    <tr>\n",
       "      <th>3505</th>\n",
       "      <td>Rolls-Royce</td>\n",
       "      <td>Dawn</td>\n",
       "      <td>2016</td>\n",
       "      <td>premium unleaded (required)</td>\n",
       "      <td>563.0</td>\n",
       "      <td>12.0</td>\n",
       "      <td>AUTOMATIC</td>\n",
       "      <td>rear wheel drive</td>\n",
       "      <td>2.0</td>\n",
       "      <td>Exotic,Luxury,High-Performance</td>\n",
       "      <td>Large</td>\n",
       "      <td>Convertible</td>\n",
       "      <td>19</td>\n",
       "      <td>12</td>\n",
       "      <td>86</td>\n",
       "      <td>335000</td>\n",
       "    </tr>\n",
       "  </tbody>\n",
       "</table>\n",
       "</div>"
      ],
      "text/plain": [
       "             make     model  year             engine_fuel_type  engine_hp  \\\n",
       "2921  Rolls-Royce  Corniche  2001  premium unleaded (required)      325.0   \n",
       "3505  Rolls-Royce      Dawn  2016  premium unleaded (required)      563.0   \n",
       "\n",
       "      engine_cylinders transmission_type     driven_wheels  number_of_doors  \\\n",
       "2921               8.0         AUTOMATIC  rear wheel drive              2.0   \n",
       "3505              12.0         AUTOMATIC  rear wheel drive              2.0   \n",
       "\n",
       "                     market_category vehicle_size vehicle_style  highway_mpg  \\\n",
       "2921                   Exotic,Luxury        Large   Convertible           15   \n",
       "3505  Exotic,Luxury,High-Performance        Large   Convertible           19   \n",
       "\n",
       "      city_mpg  popularity    msrp  \n",
       "2921        10          86  359990  \n",
       "3505        12          86  335000  "
      ]
     },
     "execution_count": 196,
     "metadata": {},
     "output_type": "execute_result"
    }
   ],
   "source": [
    "RR = carsdata[carsdata['make'] == 'Rolls-Royce']\n",
    "RR.head(2)"
   ]
  },
  {
   "cell_type": "code",
   "execution_count": 211,
   "id": "c3eedfe7-7bf4-4637-a880-f7c2463bfaca",
   "metadata": {},
   "outputs": [
    {
     "data": {
      "text/html": [
       "<div>\n",
       "<style scoped>\n",
       "    .dataframe tbody tr th:only-of-type {\n",
       "        vertical-align: middle;\n",
       "    }\n",
       "\n",
       "    .dataframe tbody tr th {\n",
       "        vertical-align: top;\n",
       "    }\n",
       "\n",
       "    .dataframe thead th {\n",
       "        text-align: right;\n",
       "    }\n",
       "</style>\n",
       "<table border=\"1\" class=\"dataframe\">\n",
       "  <thead>\n",
       "    <tr style=\"text-align: right;\">\n",
       "      <th></th>\n",
       "      <th>engine_hp</th>\n",
       "      <th>engine_cylinders</th>\n",
       "      <th>highway_mpg</th>\n",
       "    </tr>\n",
       "  </thead>\n",
       "  <tbody>\n",
       "    <tr>\n",
       "      <th>2921</th>\n",
       "      <td>325.0</td>\n",
       "      <td>8.0</td>\n",
       "      <td>15</td>\n",
       "    </tr>\n",
       "    <tr>\n",
       "      <th>3505</th>\n",
       "      <td>563.0</td>\n",
       "      <td>12.0</td>\n",
       "      <td>19</td>\n",
       "    </tr>\n",
       "    <tr>\n",
       "      <th>5275</th>\n",
       "      <td>563.0</td>\n",
       "      <td>12.0</td>\n",
       "      <td>21</td>\n",
       "    </tr>\n",
       "    <tr>\n",
       "      <th>5279</th>\n",
       "      <td>563.0</td>\n",
       "      <td>12.0</td>\n",
       "      <td>20</td>\n",
       "    </tr>\n",
       "    <tr>\n",
       "      <th>7443</th>\n",
       "      <td>322.0</td>\n",
       "      <td>12.0</td>\n",
       "      <td>15</td>\n",
       "    </tr>\n",
       "    <tr>\n",
       "      <th>7553</th>\n",
       "      <td>453.0</td>\n",
       "      <td>12.0</td>\n",
       "      <td>19</td>\n",
       "    </tr>\n",
       "    <tr>\n",
       "      <th>11448</th>\n",
       "      <td>624.0</td>\n",
       "      <td>12.0</td>\n",
       "      <td>21</td>\n",
       "    </tr>\n",
       "  </tbody>\n",
       "</table>\n",
       "</div>"
      ],
      "text/plain": [
       "       engine_hp  engine_cylinders  highway_mpg\n",
       "2921       325.0               8.0           15\n",
       "3505       563.0              12.0           19\n",
       "5275       563.0              12.0           21\n",
       "5279       563.0              12.0           20\n",
       "7443       322.0              12.0           15\n",
       "7553       453.0              12.0           19\n",
       "11448      624.0              12.0           21"
      ]
     },
     "execution_count": 211,
     "metadata": {},
     "output_type": "execute_result"
    }
   ],
   "source": [
    "RR2 = RR[['engine_hp','engine_cylinders','highway_mpg']].drop_duplicates()\n",
    "RR2"
   ]
  },
  {
   "cell_type": "code",
   "execution_count": 212,
   "id": "6a4de200-d918-44b2-8e5a-2a1384ba4364",
   "metadata": {},
   "outputs": [
    {
     "data": {
      "text/plain": [
       "array([[325.,   8.,  15.],\n",
       "       [563.,  12.,  19.],\n",
       "       [563.,  12.,  21.],\n",
       "       [563.,  12.,  20.],\n",
       "       [322.,  12.,  15.],\n",
       "       [453.,  12.,  19.],\n",
       "       [624.,  12.,  21.]])"
      ]
     },
     "execution_count": 212,
     "metadata": {},
     "output_type": "execute_result"
    }
   ],
   "source": [
    "x = RR2.values\n",
    "x"
   ]
  },
  {
   "cell_type": "code",
   "execution_count": 273,
   "id": "7228e09d-0923-4b72-9f9d-f4fdef1a4dd8",
   "metadata": {},
   "outputs": [
    {
     "name": "stdout",
     "output_type": "stream",
     "text": [
      "Transpose of X:  [[325. 563. 563. 563. 322. 453. 624.]\n",
      " [  8.  12.  12.  12.  12.  12.  12.]\n",
      " [ 15.  19.  21.  20.  15.  19.  21.]]\n",
      "Matrix-Matrix Mult of x & its transpose:  [[105914. 183356. 183386. 183371. 104971. 147606. 203211.]\n",
      " [183356. 317474. 317512. 317493. 181715. 255544. 351855.]\n",
      " [183386. 317512. 317554. 317533. 181745. 255582. 351897.]\n",
      " [183371. 317493. 317533. 317513. 181730. 255563. 351876.]\n",
      " [104971. 181715. 181745. 181730. 104053. 146295. 201387.]\n",
      " [147606. 255544. 255582. 255563. 146295. 205714. 283215.]\n",
      " [203211. 351855. 351897. 351876. 201387. 283215. 389961.]]\n"
     ]
    },
    {
     "data": {
      "text/plain": [
       "array([[ 2.26655979e+10,  1.31639849e+11,  6.00619990e+10,\n",
       "         6.00514968e+09, -3.30011828e+10, -2.43060764e+10,\n",
       "        -1.55510137e+11],\n",
       "       [-3.27415886e+14, -1.81277359e+15, -1.62961971e+15,\n",
       "         6.77449931e+14,  1.21383250e+14,  9.46190933e+14,\n",
       "         1.91564644e+15],\n",
       "       [ 3.76975783e+15,  1.38681644e+16,  6.30933989e+15,\n",
       "        -7.54480926e+15, -1.37638987e+15, -4.08171120e+15,\n",
       "        -9.68776581e+15],\n",
       "       [ 1.92477705e+15,  5.61962212e+15,  2.10780469e+15,\n",
       "        -3.28629886e+15, -3.28648700e+14, -2.02813806e+15,\n",
       "        -3.36752589e+15],\n",
       "       [ 1.03705184e+15,  4.30192234e+15,  2.42889709e+15,\n",
       "        -2.15278424e+15, -4.23061002e+14, -1.43782129e+15,\n",
       "        -3.40852079e+15],\n",
       "       [-3.74611682e+15, -1.39027387e+16, -6.71094389e+15,\n",
       "         7.42405523e+15,  1.31210760e+15,  4.38132983e+15,\n",
       "         9.99360111e+15],\n",
       "       [-2.65806912e+15, -8.07428433e+15, -2.50551812e+15,\n",
       "         4.88238320e+15,  6.94630722e+14,  2.22016600e+15,\n",
       "         4.55466860e+15]])"
      ]
     },
     "execution_count": 273,
     "metadata": {},
     "output_type": "execute_result"
    }
   ],
   "source": [
    "#Transpose x\n",
    "x_trans = x.T\n",
    "print(\"Transpose of X: \",x_trans)\n",
    "\n",
    "#Matrix Matrix Mult of x & Transpose of x\n",
    "XTX = x.dot(x_trans)\n",
    "print(\"Matrix-Matrix Mult of x & its transpose: \",XTX)\n",
    "\n",
    "#INVERT XTX\n",
    "#Number of rows equals number of columns, must be square matrix\n",
    "# XTXs = XTX[[0,1,2]] #square matrix\n",
    "#Use Linalg library to find the inverse matrix\n",
    "XTXinv = np.linalg.inv(XTX)\n",
    "XTXinv\n",
    "#This does not look right"
   ]
  },
  {
   "cell_type": "code",
   "execution_count": 261,
   "id": "2506a25b-353f-4273-8f3c-5086e24e2564",
   "metadata": {},
   "outputs": [
    {
     "data": {
      "text/plain": [
       "array([[ 1.08145718e+06,  1.87246240e+06,  1.87270641e+06,\n",
       "         1.87258041e+06,  1.07178633e+06,  1.50723440e+06,\n",
       "         2.07524500e+06],\n",
       "       [ 6.05898630e+07,  1.05065115e+08,  1.05069325e+08,\n",
       "         1.05001684e+08,  6.01542470e+07,  8.45813710e+07,\n",
       "         1.16524413e+08],\n",
       "       [ 6.25837580e+07,  1.07777206e+08,  1.07659930e+08,\n",
       "         1.08505000e+08,  6.18722700e+07,  8.62042780e+07,\n",
       "         1.19189370e+08],\n",
       "       [-1.22361768e+08, -2.11228114e+08, -2.11105506e+08,\n",
       "        -2.11428954e+08, -1.21170264e+08, -1.70280706e+08,\n",
       "        -2.34618202e+08],\n",
       "       [ 2.63130500e+05,  8.32136500e+05,  5.24531500e+05,\n",
       "         5.47262000e+05,  1.96458500e+05,  3.23736500e+05,\n",
       "         4.43035500e+05],\n",
       "       [-8.49112000e+05, -1.95583200e+06, -1.74804000e+06,\n",
       "        -1.32764800e+06, -7.73080000e+05, -9.84824000e+05,\n",
       "        -8.99528000e+05],\n",
       "       [-2.23391000e+05, -6.15091000e+05, -7.51157000e+05,\n",
       "        -4.20980000e+05, -2.12479000e+05, -2.80339000e+05,\n",
       "        -5.96005000e+05]])"
      ]
     },
     "execution_count": 261,
     "metadata": {},
     "output_type": "execute_result"
    }
   ],
   "source": [
    "#Find dot product (multiply two matrices) of XTX and XTXinv - should be identity matrix\n",
    "XTXinv.dot(XTX)"
   ]
  },
  {
   "cell_type": "code",
   "execution_count": 266,
   "id": "42e0763b-0bfa-4a2e-b3bd-f6e6bce714ec",
   "metadata": {},
   "outputs": [
    {
     "data": {
      "text/plain": [
       "array([[105914., 183356., 183386., 183371., 104971., 147606., 203211.],\n",
       "       [183356., 317474., 317512., 317493., 181715., 255544., 351855.],\n",
       "       [183386., 317512., 317554., 317533., 181745., 255582., 351897.],\n",
       "       [183371., 317493., 317533., 317513., 181730., 255563., 351876.],\n",
       "       [104971., 181715., 181745., 181730., 104053., 146295., 201387.],\n",
       "       [147606., 255544., 255582., 255563., 146295., 205714., 283215.],\n",
       "       [203211., 351855., 351897., 351876., 201387., 283215., 389961.]])"
      ]
     },
     "execution_count": 266,
     "metadata": {},
     "output_type": "execute_result"
    }
   ],
   "source": [
    "XTX"
   ]
  },
  {
   "cell_type": "markdown",
   "id": "92aa98b1-7da9-4cf3-9e37-f618399e353b",
   "metadata": {},
   "source": [
    "## Questions 7\n",
    "\n",
    "    Create an array y with values [1000, 1100, 900, 1200, 1000, 850, 1300].\n",
    "    Multiply the inverse of XTX with the transpose of X, and then multiply the result by y. Call the result w.\n",
    "    What's the value of the first element of w?.\n",
    "\n",
    "    Note: You just implemented linear regression. We'll talk about it in the next lesson.\n"
   ]
  },
  {
   "cell_type": "code",
   "execution_count": 270,
   "id": "a5d8eb61-989c-4833-8d26-73d7d6668f2b",
   "metadata": {},
   "outputs": [
    {
     "data": {
      "text/plain": [
       "[1000, 1100, 900, 1200, 1000, 850, 1200]"
      ]
     },
     "execution_count": 270,
     "metadata": {},
     "output_type": "execute_result"
    }
   ],
   "source": [
    "y = [1000, 1100, 900, 1200, 1000, 850, 1200]\n",
    "y"
   ]
  },
  {
   "cell_type": "code",
   "execution_count": 272,
   "id": "05b094cb-bc98-4313-9de5-203a82cfd084",
   "metadata": {},
   "outputs": [
    {
     "ename": "ValueError",
     "evalue": "operands could not be broadcast together with shapes (7,7) (3,7) ",
     "output_type": "error",
     "traceback": [
      "\u001b[1;31m---------------------------------------------------------------------------\u001b[0m",
      "\u001b[1;31mValueError\u001b[0m                                Traceback (most recent call last)",
      "\u001b[1;32m<ipython-input-272-ac71e30ddbe0>\u001b[0m in \u001b[0;36m<module>\u001b[1;34m\u001b[0m\n\u001b[1;32m----> 1\u001b[1;33m \u001b[0mw\u001b[0m \u001b[1;33m=\u001b[0m \u001b[0mXTXinv\u001b[0m \u001b[1;33m*\u001b[0m \u001b[0mx_trans\u001b[0m \u001b[1;33m*\u001b[0m \u001b[0my\u001b[0m\u001b[1;33m\u001b[0m\u001b[1;33m\u001b[0m\u001b[0m\n\u001b[0m",
      "\u001b[1;31mValueError\u001b[0m: operands could not be broadcast together with shapes (7,7) (3,7) "
     ]
    }
   ],
   "source": [
    "w = XTXinv * x_trans * y"
   ]
  },
  {
   "cell_type": "code",
   "execution_count": 275,
   "id": "e531c1ae-39ea-40ef-8aaf-ba68ec76bd01",
   "metadata": {},
   "outputs": [
    {
     "data": {
      "text/plain": [
       "'C:\\\\Users\\\\markk\\\\OneDrive\\\\Documents\\\\Documents\\\\Data Science\\\\DSProjects\\\\ml-zoomcamp\\\\session1'"
      ]
     },
     "execution_count": 275,
     "metadata": {},
     "output_type": "execute_result"
    }
   ],
   "source": [
    "os.getcwd()"
   ]
  },
  {
   "cell_type": "code",
   "execution_count": null,
   "id": "9f5b2203-b06b-4039-a5c9-2b238a9de46e",
   "metadata": {},
   "outputs": [],
   "source": []
  },
  {
   "cell_type": "code",
   "execution_count": null,
   "id": "190c3b65-8b57-41d8-8905-043a665a7e4d",
   "metadata": {},
   "outputs": [],
   "source": []
  },
  {
   "cell_type": "code",
   "execution_count": null,
   "id": "39bd9ee2-3da4-4f2a-81aa-d8ba6d18bf56",
   "metadata": {},
   "outputs": [],
   "source": []
  }
 ],
 "metadata": {
  "kernelspec": {
   "display_name": "Python 3",
   "language": "python",
   "name": "python3"
  },
  "language_info": {
   "codemirror_mode": {
    "name": "ipython",
    "version": 3
   },
   "file_extension": ".py",
   "mimetype": "text/x-python",
   "name": "python",
   "nbconvert_exporter": "python",
   "pygments_lexer": "ipython3",
   "version": "3.6.13"
  }
 },
 "nbformat": 4,
 "nbformat_minor": 5
}
